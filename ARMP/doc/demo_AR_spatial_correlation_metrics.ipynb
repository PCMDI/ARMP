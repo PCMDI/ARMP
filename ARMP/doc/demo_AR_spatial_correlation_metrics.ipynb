{
 "cells": [
  {
   "cell_type": "markdown",
   "id": "afbc26c6",
   "metadata": {},
   "source": [
    "### Set config parameters\n",
    "the customized config.in file should be like"
   ]
  },
  {
   "cell_type": "code",
   "execution_count": 12,
   "id": "0d92d9ed",
   "metadata": {},
   "outputs": [
    {
     "name": "stdout",
     "output_type": "stream",
     "text": [
      "\n",
      "project_name = \"ARMP demo project with dummmy data 11/11/2024\"\n",
      "\n",
      "# ======= basic ARMP workflow structure and dimension setting =======\n",
      "json_structure = (\"REF\", \"RESULTS\",)  # frozen with ARMP version\n",
      "layout = (\"model\", \"ARDT\", \"region\", \"season\",)  # frozen with ARMP version\n",
      "\n",
      "season_list = (\"NDJFM\",)  # can be customized with season_month_list below\n",
      "season_month_list = ([11, 12, 1, 2, 3],)\n",
      "\n",
      "model_list = (\"ERA5\", \"CanESM2\",)\n",
      "ARDT_list = (\"Mundhenk\",)\n",
      "region_list = (\"California\",)  # custom region in params/region_def.py\n",
      "\n",
      "\n",
      "# ======= input data specification =======\n",
      "tag_var_list = (\"binary_tag\",)  # same length as ARDT_list\n",
      "tag_freq_list = (\"6h\", \"6h\")  # AR data temporal resolution, same length as model_list\n",
      "tag_var_out = \"binary_tag\"  # output AR variable\n",
      "tag_var_fn = tag_var_out\n",
      "\n",
      "\n",
      "include_clim = True  # analysis on climate data, e.g., precipitation, temperature\n",
      "\n",
      "# ------- set section below if include_clim -------\n",
      "clim_var_list = (\"pr\", \"pr\",)  # same length as model_list\n",
      "clim_freq_list = (\"1D\", \"1D\",)  # climate data temporal resolution\n",
      "clim_var_out = \"pr\"\n",
      "clim_var_fn = clim_var_out\n",
      "\n",
      "clim_4D = False  # if 4-dimensional data, e.g., pressure level wind\n",
      "lev_dim_list = (\"plev\", \"lev\",)\n",
      "lev_coord_list = (85000, 85000,)\n",
      "\n",
      "unit_adjust_list = (\n",
      "    (True, \"multiply\", 86400.0, \"mm d-1\"),\n",
      "    False,\n",
      ")  # output units must be consistent, adjust when necessary\n",
      "\n",
      "\n",
      "# ======= spatiotemporal setting =======\n",
      "start_date = \"1997-01-01\"  # analysis start data\n",
      "end_date = \"1999-12-31\"\n",
      "\n",
      "target_freq = \"1D\"  # target frequency can not be higher than tag_freq or clim_freq, this is the temporal resolution we use to perform statistics\n",
      "\n",
      "mask_lndocn = None  # None, 'ocean', or 'land' for landfalling ARs\n",
      "\n",
      "\n",
      "# ======= workflow flags ========\n",
      "parallel = True  # parallel data loading and chunking\n",
      "restart = False  # run climate data metrics only, based on processed/saved AR tag data\n",
      "\n",
      "debug = False  # debug mode, available for ARMP development phases\n",
      "make_plot = True  # produce metric or diagnostic figures along with job run\n",
      "\n",
      "\n",
      "# ======== input, output, figure dir =========\n",
      "dir_in = \"data\"\n",
      "dir_out = \"output\"\n",
      "dir_fig = \"figure\"\n",
      "\n",
      "\n",
      "# ======= save processed AR and climate data as .nc file ========\n",
      "# required for metric and diagnostic workflow, e.g., for IOU metrics, set tag_out_ts=True\n",
      "tag_out_ts = True  # output AR regional averaged time series\n",
      "tag_out_map = True  # output AR time mean (e.g., frequency) map\n",
      "tag_out_map_ts = True  # output regionally cropped AR object series\n",
      "clim_out_ts = True  # output regional averaged clim time series\n",
      "clim_out_map = True  # output clim time mean map\n",
      "clim_out_map_ts = True  # output regionally cropped clim data series when AR exists\n",
      "\n",
      "\n",
      "# ======== metrics =========\n",
      "metric_freq = True  # AR frequency metrics\n",
      "metric_peak_day = True  # AR peak day metrics\n",
      "metric_character = False  # AR charateristic metrics\n",
      "metric_spatial_corr = True  # AR spatial correolation metrics\n",
      "metric_iou = True  # AR temporal concurrence metrics\n",
      "metric_clim = True  # metrics for AR-related climate data\n",
      "\n",
      "\n",
      "# ======== available variables for metrics =========\n",
      "vars_in_metric_freq = (\"freq\", \"count\",)\n",
      "vars_in_metric_peak_day = (\"peak_day\", \"count_mean\", \"count_std\", \"count_ens\",)\n",
      "vars_in_metric_character = (\"lat\", \"lon\", \"area\", \"width\", \"length\",)\n",
      "vars_in_metric_spatial_corr = (\"freq\",)\n",
      "vars_in_metric_iou = (\"occur\",)\n",
      "vars_in_metric_clim = ({\"pr\": \"mean\"},)\n",
      "\n",
      "\n",
      "# ======== diagnostics =========\n",
      "diag_peak_day_histogram = True  # AR occurence monthly histogram\n",
      "diag_character_histogram = False  # AR characteristics histogram\n",
      "diag_freq_map = False  # AR frequency map\n",
      "\n"
     ]
    }
   ],
   "source": [
    "import os\n",
    "\n",
    "current_dir = os.getcwd()\n",
    "config_file = os.path.join(current_dir, '../params/config.in')\n",
    "\n",
    "with open(config_file) as f:\n",
    "    print(f.read())"
   ]
  },
  {
   "cell_type": "markdown",
   "id": "eb85669d",
   "metadata": {},
   "source": [
    "### Specifically set \n",
    "`metric_peak_day = True`<br>\n",
    "and optionally `diag_peak_day_histogram = True` for diagnostic histogram plot\n",
    "\n",
    "### Assuming we have small-sized dummy data for AR tags"
   ]
  },
  {
   "cell_type": "code",
   "execution_count": 13,
   "id": "aa686b56",
   "metadata": {},
   "outputs": [
    {
     "name": "stdout",
     "output_type": "stream",
     "text": [
      "data/AR_tag2_1997.nc data/AR_tag_1997.nc\r\n",
      "data/AR_tag2_1998.nc data/AR_tag_1998.nc\r\n"
     ]
    }
   ],
   "source": [
    "!ls data/*tag*.nc"
   ]
  },
  {
   "cell_type": "markdown",
   "id": "57327c5e",
   "metadata": {},
   "source": [
    "### prepare the data into a .in data list \n",
    "in `dir_in`, which is ARMP/data/ by default <br>\n",
    "as `ERA5_Mundhenk_tag_list.in` \n",
    "and `CanESM_Mundhenk_tag_list.in`"
   ]
  },
  {
   "cell_type": "code",
   "execution_count": 21,
   "id": "0ca3566a",
   "metadata": {},
   "outputs": [
    {
     "name": "stdout",
     "output_type": "stream",
     "text": [
      "../data/CanESM2_Mundhenk_tag_list.in ../data/ERA5_Mundhenk_tag_list.in\n",
      "demo/data/AR_tag2_1997.nc\n",
      "demo/data/AR_tag2_1998.nc\n"
     ]
    }
   ],
   "source": [
    "!ls ../data/*tag_list.in\n",
    "!cat {os.path.join(current_dir, '../data/ERA5_Mundhenk_tag_list.in')}"
   ]
  },
  {
   "cell_type": "markdown",
   "id": "cca049d4",
   "metadata": {},
   "source": [
    "### now we've got everything we need to run AR peak day metrics"
   ]
  },
  {
   "cell_type": "code",
   "execution_count": 23,
   "id": "f1066539",
   "metadata": {},
   "outputs": [
    {
     "name": "stderr",
     "output_type": "stream",
     "text": [
      "Traceback (most recent call last):\n",
      "  File \"/Users/dong12/Pictures/ARMP_dev/v0.2/ARMP/ARMP/doc/../driver_AR.py\", line 1, in <module>\n",
      "    from driver_clim import run_ARMP_clim\n",
      "  File \"/Users/dong12/Pictures/ARMP_dev/v0.2/ARMP/ARMP/driver_clim.py\", line 1, in <module>\n",
      "    from ARMP.app.clim_analysis import Clim_analysis\n",
      "  File \"/Users/dong12/Pictures/ARMP_dev/v0.2/ARMP/ARMP/__init__.py\", line 1, in <module>\n",
      "    from ARMP.io.printting import print_armp\n",
      "  File \"/Users/dong12/Pictures/ARMP_dev/v0.2/ARMP/ARMP/io/printting.py\", line 3, in <module>\n",
      "    from ARMP.lib.loader import dic\n",
      "  File \"/Users/dong12/Pictures/ARMP_dev/v0.2/ARMP/ARMP/lib/loader.py\", line 14, in <module>\n",
      "    with open(config_file_path, \"r\") as f:\n",
      "FileNotFoundError: [Errno 2] No such file or directory: 'params/config.in'\n"
     ]
    },
    {
     "ename": "CalledProcessError",
     "evalue": "Command 'b'python ../driver_AR.py\\n'' returned non-zero exit status 1.",
     "output_type": "error",
     "traceback": [
      "\u001b[0;31m---------------------------------------------------------------------------\u001b[0m",
      "\u001b[0;31mCalledProcessError\u001b[0m                        Traceback (most recent call last)",
      "Cell \u001b[0;32mIn[23], line 1\u001b[0m\n\u001b[0;32m----> 1\u001b[0m \u001b[43mget_ipython\u001b[49m\u001b[43m(\u001b[49m\u001b[43m)\u001b[49m\u001b[38;5;241;43m.\u001b[39;49m\u001b[43mrun_cell_magic\u001b[49m\u001b[43m(\u001b[49m\u001b[38;5;124;43m'\u001b[39;49m\u001b[38;5;124;43mbash\u001b[39;49m\u001b[38;5;124;43m'\u001b[39;49m\u001b[43m,\u001b[49m\u001b[43m \u001b[49m\u001b[38;5;124;43m'\u001b[39;49m\u001b[38;5;124;43m'\u001b[39;49m\u001b[43m,\u001b[49m\u001b[43m \u001b[49m\u001b[38;5;124;43m'\u001b[39;49m\u001b[38;5;124;43mpython ../driver_AR.py\u001b[39;49m\u001b[38;5;130;43;01m\\n\u001b[39;49;00m\u001b[38;5;124;43m'\u001b[39;49m\u001b[43m)\u001b[49m\n",
      "File \u001b[0;32m~/mambaforge/envs/cdms2/lib/python3.9/site-packages/IPython/core/interactiveshell.py:2517\u001b[0m, in \u001b[0;36mInteractiveShell.run_cell_magic\u001b[0;34m(self, magic_name, line, cell)\u001b[0m\n\u001b[1;32m   2515\u001b[0m \u001b[38;5;28;01mwith\u001b[39;00m \u001b[38;5;28mself\u001b[39m\u001b[38;5;241m.\u001b[39mbuiltin_trap:\n\u001b[1;32m   2516\u001b[0m     args \u001b[38;5;241m=\u001b[39m (magic_arg_s, cell)\n\u001b[0;32m-> 2517\u001b[0m     result \u001b[38;5;241m=\u001b[39m \u001b[43mfn\u001b[49m\u001b[43m(\u001b[49m\u001b[38;5;241;43m*\u001b[39;49m\u001b[43margs\u001b[49m\u001b[43m,\u001b[49m\u001b[43m \u001b[49m\u001b[38;5;241;43m*\u001b[39;49m\u001b[38;5;241;43m*\u001b[39;49m\u001b[43mkwargs\u001b[49m\u001b[43m)\u001b[49m\n\u001b[1;32m   2519\u001b[0m \u001b[38;5;66;03m# The code below prevents the output from being displayed\u001b[39;00m\n\u001b[1;32m   2520\u001b[0m \u001b[38;5;66;03m# when using magics with decorator @output_can_be_silenced\u001b[39;00m\n\u001b[1;32m   2521\u001b[0m \u001b[38;5;66;03m# when the last Python token in the expression is a ';'.\u001b[39;00m\n\u001b[1;32m   2522\u001b[0m \u001b[38;5;28;01mif\u001b[39;00m \u001b[38;5;28mgetattr\u001b[39m(fn, magic\u001b[38;5;241m.\u001b[39mMAGIC_OUTPUT_CAN_BE_SILENCED, \u001b[38;5;28;01mFalse\u001b[39;00m):\n",
      "File \u001b[0;32m~/mambaforge/envs/cdms2/lib/python3.9/site-packages/IPython/core/magics/script.py:154\u001b[0m, in \u001b[0;36mScriptMagics._make_script_magic.<locals>.named_script_magic\u001b[0;34m(line, cell)\u001b[0m\n\u001b[1;32m    152\u001b[0m \u001b[38;5;28;01melse\u001b[39;00m:\n\u001b[1;32m    153\u001b[0m     line \u001b[38;5;241m=\u001b[39m script\n\u001b[0;32m--> 154\u001b[0m \u001b[38;5;28;01mreturn\u001b[39;00m \u001b[38;5;28;43mself\u001b[39;49m\u001b[38;5;241;43m.\u001b[39;49m\u001b[43mshebang\u001b[49m\u001b[43m(\u001b[49m\u001b[43mline\u001b[49m\u001b[43m,\u001b[49m\u001b[43m \u001b[49m\u001b[43mcell\u001b[49m\u001b[43m)\u001b[49m\n",
      "File \u001b[0;32m~/mambaforge/envs/cdms2/lib/python3.9/site-packages/IPython/core/magics/script.py:314\u001b[0m, in \u001b[0;36mScriptMagics.shebang\u001b[0;34m(self, line, cell)\u001b[0m\n\u001b[1;32m    309\u001b[0m \u001b[38;5;28;01mif\u001b[39;00m args\u001b[38;5;241m.\u001b[39mraise_error \u001b[38;5;129;01mand\u001b[39;00m p\u001b[38;5;241m.\u001b[39mreturncode \u001b[38;5;241m!=\u001b[39m \u001b[38;5;241m0\u001b[39m:\n\u001b[1;32m    310\u001b[0m     \u001b[38;5;66;03m# If we get here and p.returncode is still None, we must have\u001b[39;00m\n\u001b[1;32m    311\u001b[0m     \u001b[38;5;66;03m# killed it but not yet seen its return code. We don't wait for it,\u001b[39;00m\n\u001b[1;32m    312\u001b[0m     \u001b[38;5;66;03m# in case it's stuck in uninterruptible sleep. -9 = SIGKILL\u001b[39;00m\n\u001b[1;32m    313\u001b[0m     rc \u001b[38;5;241m=\u001b[39m p\u001b[38;5;241m.\u001b[39mreturncode \u001b[38;5;129;01mor\u001b[39;00m \u001b[38;5;241m-\u001b[39m\u001b[38;5;241m9\u001b[39m\n\u001b[0;32m--> 314\u001b[0m     \u001b[38;5;28;01mraise\u001b[39;00m CalledProcessError(rc, cell)\n",
      "\u001b[0;31mCalledProcessError\u001b[0m: Command 'b'python ../driver_AR.py\\n'' returned non-zero exit status 1."
     ]
    }
   ],
   "source": [
    "%%bash\n",
    "python ../driver_AR.py"
   ]
  },
  {
   "cell_type": "code",
   "execution_count": null,
   "id": "f07334ec",
   "metadata": {},
   "outputs": [],
   "source": []
  }
 ],
 "metadata": {
  "kernelspec": {
   "display_name": "Python [conda env:cdms2]",
   "language": "python",
   "name": "conda-env-cdms2-py"
  },
  "language_info": {
   "codemirror_mode": {
    "name": "ipython",
    "version": 3
   },
   "file_extension": ".py",
   "mimetype": "text/x-python",
   "name": "python",
   "nbconvert_exporter": "python",
   "pygments_lexer": "ipython3",
   "version": "3.9.16"
  }
 },
 "nbformat": 4,
 "nbformat_minor": 5
}
